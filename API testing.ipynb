{
 "cells": [
  {
   "cell_type": "code",
   "execution_count": 1,
   "id": "53b2bf9d",
   "metadata": {},
   "outputs": [],
   "source": [
    "!pip install -q -U google-generativeai"
   ]
  },
  {
   "cell_type": "code",
   "execution_count": 9,
   "id": "30e76511",
   "metadata": {},
   "outputs": [],
   "source": [
    "import os\n",
    "import google.generativeai as genai\n",
    "\n",
    "os.environ[\"GENERATIVE_AI_API_KEY\"] = \"Your API Key\"\n",
    "genai.configure(api_key=os.getenv(\"GENERATIVE_AI_API_KEY\"))\n",
    "model = genai.GenerativeModel('gemini-pro')\n"
   ]
  },
  {
   "cell_type": "code",
   "execution_count": 10,
   "id": "e0d95b9f-0e48-4496-850b-13474e34c2b5",
   "metadata": {},
   "outputs": [],
   "source": [
    "response = model.generate_content(\"What is the meaning of life?\")"
   ]
  },
  {
   "cell_type": "code",
   "execution_count": 16,
   "id": "a82f0652-e386-4bde-8b79-bd80cf9b3255",
   "metadata": {},
   "outputs": [
    {
     "name": "stdout",
     "output_type": "stream",
     "text": [
      "The meaning of life is a deep philosophical question that has been pondered by thinkers throughout history. There is no one definitive answer that everyone can agree on, but here are some common perspectives on the meaning of life:\n",
      "\n",
      "Purpose-driven: Some people believe that life has a specific purpose or goal, such as finding happiness, achieving success, or contributing to the greater good. This perspective suggests that the meaning of life comes from fulfilling that purpose.\n",
      "\n",
      "Experience-based: Others believe that the meaning of life lies in the experiences we have along the way. Whether it's relationships, travel, or personal growth, this perspective emphasizes the value of living each moment to the fullest.\n",
      "\n",
      "Subjective and Personal: Some believe that the meaning of life is subjective and varies from person to person. It is something that each individual must discover for themselves through their own unique experiences and values.\n",
      "\n",
      "Existential: An existential perspective suggests that life has no inherent meaning and that individuals create their own meaning through their choices and actions. This approach emphasizes the importance of authenticity and living according to one's own values.\n",
      "\n",
      "Religious or Spiritual: Many religions and spiritual beliefs provide their followers with a sense of purpose and meaning. They may believe in a higher power or a set of moral principles that guide their lives.\n",
      "\n",
      "Evolutionary: An evolutionary perspective suggests that the meaning of life is to survive and reproduce. This approach emphasizes the importance of passing on our genes and contributing to the survival of our species.\n",
      "\n",
      "Nihilistic: A nihilistic perspective holds that life has no intrinsic meaning or purpose. This view can lead to feelings of futility and despair or to a sense of freedom and liberation.\n",
      "\n",
      "Ultimately, the meaning of life is a deeply personal question that each individual must grapple with on their own terms. There may not be a single \"correct\" answer, but by exploring different perspectives and reflecting on our own values and beliefs, we can find meaning and purpose in our lives.\n"
     ]
    }
   ],
   "source": [
    "cleaned_text = response.text.replace('**', '')\n",
    "print(cleaned_text)"
   ]
  },
  {
   "cell_type": "code",
   "execution_count": null,
   "id": "858e2779-640a-438b-a319-ba145c5460d0",
   "metadata": {},
   "outputs": [],
   "source": []
  }
 ],
 "metadata": {
  "kernelspec": {
   "display_name": "Python 3 (ipykernel)",
   "language": "python",
   "name": "python3"
  },
  "language_info": {
   "codemirror_mode": {
    "name": "ipython",
    "version": 3
   },
   "file_extension": ".py",
   "mimetype": "text/x-python",
   "name": "python",
   "nbconvert_exporter": "python",
   "pygments_lexer": "ipython3",
   "version": "3.12.2"
  }
 },
 "nbformat": 4,
 "nbformat_minor": 5
}
